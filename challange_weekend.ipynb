{
 "cells": [
  {
   "cell_type": "markdown",
   "metadata": {},
   "source": [
    "# Adventures of Adventure Works\n",
    "##### Roman, Noor And Brian aka Dragons\n",
    "![](title.png)\n"
   ]
  },
  {
   "cell_type": "markdown",
   "metadata": {},
   "source": [
    "# Table-of-contents\n",
    "[Introduction](#Introduction)\n",
    "<br>\n",
    "[Data Exploration](#data_exploration)\n",
    "<br>\n",
    "[Machine Learning](#ml)\n",
    "- [Machine Learning - Classification](#classification)\n",
    "<br>\n",
    "- [Machine Learning - Regression](#regression)\n",
    "\n",
    "[Conclusions and Recommendations](#conclusions)\n",
    "\n"
   ]
  },
  {
   "cell_type": "markdown",
   "metadata": {},
   "source": [
    "\n",
    "# Introduction\n",
    "<hr>\n",
    "In 1998, the Adventure Works Cycles company collected a large volume of data about their existing customers, including demographic features and information about purchases they have made. The company is particularly interested in analyzing customer data to determine any apparent relationships between demographic features known about the customers and the likelihood of a customer purchasing a bike.\n",
    "\n",
    "In this project, you must tackle four challenges:\n",
    "\n",
    "- Explore the data and gain some insights into Adventure Works customer characteristics and purchasing behavior.\n",
    "- Build a classification model to predict customer purchasing behavior.\n",
    "- Build a regression model to predict customer purchasing behavior.\n",
    "- Provide recomnendations for help in future sales."
   ]
  },
  {
   "cell_type": "markdown",
   "metadata": {},
   "source": [
    "[Back to TOC](#Table-of-contents)\n",
    "<a id='data_exploration'></a>\n",
    "# Data Exploration\n",
    "<hr>\n",
    "## Creating the Dataset\n",
    "The 3 files were read and merged to create the bike shop dataset."
   ]
  },
  {
   "cell_type": "code",
   "execution_count": 52,
   "metadata": {
    "collapsed": true
   },
   "outputs": [],
   "source": [
    "df_ave = pd.read_csv(\"AW_AveMonthSpend.csv\", sep=\",\", encoding='latin-1')\n",
    "df_buyer = pd.read_csv(\"AW_BikeBuyer.csv\", sep=\",\", encoding='latin-1')\n",
    "df_customer = pd.read_csv(\"AW_Customers.csv\", sep=\",\", encoding='latin-1')\n",
    "\n",
    "df_ave = df_ave.rename(index=str, columns={\"?CustomerID\": \"CustomerID\"})\n",
    "df_buyer = df_buyer.rename(index=str, columns={\"?CustomerID\": \"CustomerID\"})\n",
    "df_customer = df_customer.rename(index=str, columns={\"?CustomerID\": \"CustomerID\"})"
   ]
  },
  {
   "cell_type": "code",
   "execution_count": 58,
   "metadata": {},
   "outputs": [
    {
     "data": {
      "text/html": [
       "<div>\n",
       "<style>\n",
       "    .dataframe thead tr:only-child th {\n",
       "        text-align: right;\n",
       "    }\n",
       "\n",
       "    .dataframe thead th {\n",
       "        text-align: left;\n",
       "    }\n",
       "\n",
       "    .dataframe tbody tr th {\n",
       "        vertical-align: top;\n",
       "    }\n",
       "</style>\n",
       "<table border=\"1\" class=\"dataframe\">\n",
       "  <thead>\n",
       "    <tr style=\"text-align: right;\">\n",
       "      <th></th>\n",
       "      <th>CustomerID</th>\n",
       "      <th>AveMonthSpend</th>\n",
       "    </tr>\n",
       "  </thead>\n",
       "  <tbody>\n",
       "    <tr>\n",
       "      <th>0</th>\n",
       "      <td>11000</td>\n",
       "      <td>87</td>\n",
       "    </tr>\n",
       "    <tr>\n",
       "      <th>1</th>\n",
       "      <td>11001</td>\n",
       "      <td>127</td>\n",
       "    </tr>\n",
       "    <tr>\n",
       "      <th>2</th>\n",
       "      <td>11002</td>\n",
       "      <td>123</td>\n",
       "    </tr>\n",
       "  </tbody>\n",
       "</table>\n",
       "</div>"
      ],
      "text/plain": [
       "   CustomerID  AveMonthSpend\n",
       "0       11000             87\n",
       "1       11001            127\n",
       "2       11002            123"
      ]
     },
     "execution_count": 58,
     "metadata": {},
     "output_type": "execute_result"
    }
   ],
   "source": [
    "df_ave.head(3)"
   ]
  },
  {
   "cell_type": "code",
   "execution_count": 59,
   "metadata": {},
   "outputs": [
    {
     "data": {
      "text/html": [
       "<div>\n",
       "<style>\n",
       "    .dataframe thead tr:only-child th {\n",
       "        text-align: right;\n",
       "    }\n",
       "\n",
       "    .dataframe thead th {\n",
       "        text-align: left;\n",
       "    }\n",
       "\n",
       "    .dataframe tbody tr th {\n",
       "        vertical-align: top;\n",
       "    }\n",
       "</style>\n",
       "<table border=\"1\" class=\"dataframe\">\n",
       "  <thead>\n",
       "    <tr style=\"text-align: right;\">\n",
       "      <th></th>\n",
       "      <th>CustomerID</th>\n",
       "      <th>BikeBuyer</th>\n",
       "    </tr>\n",
       "  </thead>\n",
       "  <tbody>\n",
       "    <tr>\n",
       "      <th>0</th>\n",
       "      <td>11000</td>\n",
       "      <td>1</td>\n",
       "    </tr>\n",
       "    <tr>\n",
       "      <th>1</th>\n",
       "      <td>11001</td>\n",
       "      <td>1</td>\n",
       "    </tr>\n",
       "    <tr>\n",
       "      <th>2</th>\n",
       "      <td>11002</td>\n",
       "      <td>1</td>\n",
       "    </tr>\n",
       "  </tbody>\n",
       "</table>\n",
       "</div>"
      ],
      "text/plain": [
       "   CustomerID  BikeBuyer\n",
       "0       11000          1\n",
       "1       11001          1\n",
       "2       11002          1"
      ]
     },
     "execution_count": 59,
     "metadata": {},
     "output_type": "execute_result"
    }
   ],
   "source": [
    "df_buyer.head(3)"
   ]
  },
  {
   "cell_type": "code",
   "execution_count": 60,
   "metadata": {},
   "outputs": [
    {
     "data": {
      "text/html": [
       "<div>\n",
       "<style>\n",
       "    .dataframe thead tr:only-child th {\n",
       "        text-align: right;\n",
       "    }\n",
       "\n",
       "    .dataframe thead th {\n",
       "        text-align: left;\n",
       "    }\n",
       "\n",
       "    .dataframe tbody tr th {\n",
       "        vertical-align: top;\n",
       "    }\n",
       "</style>\n",
       "<table border=\"1\" class=\"dataframe\">\n",
       "  <thead>\n",
       "    <tr style=\"text-align: right;\">\n",
       "      <th></th>\n",
       "      <th>CustomerID</th>\n",
       "      <th>Title</th>\n",
       "      <th>FirstName</th>\n",
       "      <th>MiddleName</th>\n",
       "      <th>LastName</th>\n",
       "      <th>Suffix</th>\n",
       "      <th>AddressLine1</th>\n",
       "      <th>AddressLine2</th>\n",
       "      <th>City</th>\n",
       "      <th>StateProvinceName</th>\n",
       "      <th>...</th>\n",
       "      <th>BirthDate</th>\n",
       "      <th>Education</th>\n",
       "      <th>Occupation</th>\n",
       "      <th>Gender</th>\n",
       "      <th>MaritalStatus</th>\n",
       "      <th>HomeOwnerFlag</th>\n",
       "      <th>NumberCarsOwned</th>\n",
       "      <th>NumberChildrenAtHome</th>\n",
       "      <th>TotalChildren</th>\n",
       "      <th>YearlyIncome</th>\n",
       "    </tr>\n",
       "  </thead>\n",
       "  <tbody>\n",
       "    <tr>\n",
       "      <th>0</th>\n",
       "      <td>11000</td>\n",
       "      <td>NaN</td>\n",
       "      <td>Jon</td>\n",
       "      <td>V</td>\n",
       "      <td>Yang</td>\n",
       "      <td>NaN</td>\n",
       "      <td>3761 N. 14th St</td>\n",
       "      <td>NaN</td>\n",
       "      <td>Rockhampton</td>\n",
       "      <td>Queensland</td>\n",
       "      <td>...</td>\n",
       "      <td>1966-04-08</td>\n",
       "      <td>Bachelors</td>\n",
       "      <td>Professional</td>\n",
       "      <td>M</td>\n",
       "      <td>M</td>\n",
       "      <td>1</td>\n",
       "      <td>0</td>\n",
       "      <td>0</td>\n",
       "      <td>2</td>\n",
       "      <td>139848</td>\n",
       "    </tr>\n",
       "    <tr>\n",
       "      <th>1</th>\n",
       "      <td>11001</td>\n",
       "      <td>NaN</td>\n",
       "      <td>Eugene</td>\n",
       "      <td>L</td>\n",
       "      <td>Huang</td>\n",
       "      <td>NaN</td>\n",
       "      <td>2243 W St.</td>\n",
       "      <td>NaN</td>\n",
       "      <td>Seaford</td>\n",
       "      <td>Victoria</td>\n",
       "      <td>...</td>\n",
       "      <td>1965-05-14</td>\n",
       "      <td>Bachelors</td>\n",
       "      <td>Professional</td>\n",
       "      <td>M</td>\n",
       "      <td>S</td>\n",
       "      <td>0</td>\n",
       "      <td>1</td>\n",
       "      <td>3</td>\n",
       "      <td>3</td>\n",
       "      <td>106696</td>\n",
       "    </tr>\n",
       "    <tr>\n",
       "      <th>2</th>\n",
       "      <td>11002</td>\n",
       "      <td>NaN</td>\n",
       "      <td>Ruben</td>\n",
       "      <td>NaN</td>\n",
       "      <td>Torres</td>\n",
       "      <td>NaN</td>\n",
       "      <td>5844 Linden Land</td>\n",
       "      <td>NaN</td>\n",
       "      <td>Hobart</td>\n",
       "      <td>Tasmania</td>\n",
       "      <td>...</td>\n",
       "      <td>1965-08-12</td>\n",
       "      <td>Bachelors</td>\n",
       "      <td>Professional</td>\n",
       "      <td>M</td>\n",
       "      <td>M</td>\n",
       "      <td>1</td>\n",
       "      <td>1</td>\n",
       "      <td>3</td>\n",
       "      <td>3</td>\n",
       "      <td>101237</td>\n",
       "    </tr>\n",
       "  </tbody>\n",
       "</table>\n",
       "<p>3 rows × 23 columns</p>\n",
       "</div>"
      ],
      "text/plain": [
       "   CustomerID Title FirstName MiddleName LastName Suffix      AddressLine1  \\\n",
       "0       11000   NaN       Jon          V     Yang    NaN   3761 N. 14th St   \n",
       "1       11001   NaN    Eugene          L    Huang    NaN        2243 W St.   \n",
       "2       11002   NaN     Ruben        NaN   Torres    NaN  5844 Linden Land   \n",
       "\n",
       "  AddressLine2         City StateProvinceName      ...        BirthDate  \\\n",
       "0          NaN  Rockhampton        Queensland      ...       1966-04-08   \n",
       "1          NaN      Seaford          Victoria      ...       1965-05-14   \n",
       "2          NaN       Hobart          Tasmania      ...       1965-08-12   \n",
       "\n",
       "    Education    Occupation Gender MaritalStatus HomeOwnerFlag  \\\n",
       "0  Bachelors   Professional      M             M             1   \n",
       "1  Bachelors   Professional      M             S             0   \n",
       "2  Bachelors   Professional      M             M             1   \n",
       "\n",
       "  NumberCarsOwned NumberChildrenAtHome  TotalChildren  YearlyIncome  \n",
       "0               0                    0              2        139848  \n",
       "1               1                    3              3        106696  \n",
       "2               1                    3              3        101237  \n",
       "\n",
       "[3 rows x 23 columns]"
      ]
     },
     "execution_count": 60,
     "metadata": {},
     "output_type": "execute_result"
    }
   ],
   "source": [
    "df_customer.head(3)"
   ]
  },
  {
   "cell_type": "markdown",
   "metadata": {},
   "source": [
    "### Cleaning the dataset\n",
    "\n",
    "- Some columns in the dataset (Title, Middle, Suffux, AddressLine2) contains empty fields, thus they were first candidates to be removed from predictors list. \n",
    "\n",
    "\n",
    "- Similarly, some other columns such as First Name, Last Name, phone number, AddressLine1 would not provide any additional information about customers.\n",
    "\n",
    "\n",
    "- We expected that postal code, state and province would not have any impact on accuracy of the training model (other than possibly overfitting it)\n",
    "    - Just to be sure, we evaluated our assumpion by means of regularization, which appeared to be accurate."
   ]
  },
  {
   "cell_type": "code",
   "execution_count": 54,
   "metadata": {},
   "outputs": [
    {
     "data": {
      "text/plain": [
       "CustomerID              False\n",
       "Title                    True\n",
       "FirstName               False\n",
       "MiddleName               True\n",
       "LastName                False\n",
       "Suffix                   True\n",
       "AddressLine1            False\n",
       "AddressLine2             True\n",
       "City                    False\n",
       "StateProvinceName       False\n",
       "CountryRegionName       False\n",
       "PostalCode              False\n",
       "PhoneNumber             False\n",
       "BirthDate               False\n",
       "Education               False\n",
       "Occupation              False\n",
       "Gender                  False\n",
       "MaritalStatus           False\n",
       "HomeOwnerFlag           False\n",
       "NumberCarsOwned         False\n",
       "NumberChildrenAtHome    False\n",
       "TotalChildren           False\n",
       "YearlyIncome            False\n",
       "dtype: bool"
      ]
     },
     "execution_count": 54,
     "metadata": {},
     "output_type": "execute_result"
    }
   ],
   "source": [
    "pd.isnull(df_customer).sum() > 0"
   ]
  },
  {
   "cell_type": "markdown",
   "metadata": {},
   "source": [
    "### Dropping Duplicates\n",
    "There were a few duplicates in the dataset. Following is a count before and after dropping the duplicates"
   ]
  },
  {
   "cell_type": "code",
   "execution_count": 56,
   "metadata": {},
   "outputs": [
    {
     "name": "stdout",
     "output_type": "stream",
     "text": [
      "Shape Before duplicatate removing - AveMonthSpend: (18459, 2) \n",
      "shape of Customer: (18459, 23) \n",
      "shape of BikeBuyer: (18459, 2)\n",
      "Shape AFTER duplicatate removing - AveMonthSpend:  (18459, 2) \n",
      "shape of Customer: (18459, 23) \n",
      "shape of BikeBuyer: (18335, 2)\n"
     ]
    }
   ],
   "source": [
    "print_df_before_and_after_removing_duplicates(df_ave, df_buyer, df_customer)"
   ]
  },
  {
   "cell_type": "code",
   "execution_count": 35,
   "metadata": {},
   "outputs": [
    {
     "data": {
      "text/html": [
       "<div>\n",
       "<style>\n",
       "    .dataframe thead tr:only-child th {\n",
       "        text-align: right;\n",
       "    }\n",
       "\n",
       "    .dataframe thead th {\n",
       "        text-align: left;\n",
       "    }\n",
       "\n",
       "    .dataframe tbody tr th {\n",
       "        vertical-align: top;\n",
       "    }\n",
       "</style>\n",
       "<table border=\"1\" class=\"dataframe\">\n",
       "  <thead>\n",
       "    <tr style=\"text-align: right;\">\n",
       "      <th></th>\n",
       "      <th>CustomerID</th>\n",
       "      <th>AveMonthSpend</th>\n",
       "      <th>BikeBuyer</th>\n",
       "      <th>City</th>\n",
       "      <th>StateProvinceName</th>\n",
       "      <th>CountryRegionName</th>\n",
       "      <th>BirthDate</th>\n",
       "      <th>Education</th>\n",
       "      <th>Occupation</th>\n",
       "      <th>Gender</th>\n",
       "      <th>MaritalStatus</th>\n",
       "      <th>HomeOwnerFlag</th>\n",
       "      <th>NumberCarsOwned</th>\n",
       "      <th>NumberChildrenAtHome</th>\n",
       "      <th>TotalChildren</th>\n",
       "      <th>YearlyIncome</th>\n",
       "    </tr>\n",
       "  </thead>\n",
       "  <tbody>\n",
       "    <tr>\n",
       "      <th>0</th>\n",
       "      <td>11000</td>\n",
       "      <td>87</td>\n",
       "      <td>1</td>\n",
       "      <td>Rockhampton</td>\n",
       "      <td>Queensland</td>\n",
       "      <td>Australia</td>\n",
       "      <td>1966-04-08</td>\n",
       "      <td>Bachelors</td>\n",
       "      <td>Professional</td>\n",
       "      <td>M</td>\n",
       "      <td>M</td>\n",
       "      <td>1</td>\n",
       "      <td>0</td>\n",
       "      <td>0</td>\n",
       "      <td>2</td>\n",
       "      <td>139848</td>\n",
       "    </tr>\n",
       "    <tr>\n",
       "      <th>1</th>\n",
       "      <td>11001</td>\n",
       "      <td>127</td>\n",
       "      <td>1</td>\n",
       "      <td>Seaford</td>\n",
       "      <td>Victoria</td>\n",
       "      <td>Australia</td>\n",
       "      <td>1965-05-14</td>\n",
       "      <td>Bachelors</td>\n",
       "      <td>Professional</td>\n",
       "      <td>M</td>\n",
       "      <td>S</td>\n",
       "      <td>0</td>\n",
       "      <td>1</td>\n",
       "      <td>3</td>\n",
       "      <td>3</td>\n",
       "      <td>106696</td>\n",
       "    </tr>\n",
       "    <tr>\n",
       "      <th>2</th>\n",
       "      <td>11002</td>\n",
       "      <td>123</td>\n",
       "      <td>1</td>\n",
       "      <td>Hobart</td>\n",
       "      <td>Tasmania</td>\n",
       "      <td>Australia</td>\n",
       "      <td>1965-08-12</td>\n",
       "      <td>Bachelors</td>\n",
       "      <td>Professional</td>\n",
       "      <td>M</td>\n",
       "      <td>M</td>\n",
       "      <td>1</td>\n",
       "      <td>1</td>\n",
       "      <td>3</td>\n",
       "      <td>3</td>\n",
       "      <td>101237</td>\n",
       "    </tr>\n",
       "  </tbody>\n",
       "</table>\n",
       "</div>"
      ],
      "text/plain": [
       "   CustomerID  AveMonthSpend  BikeBuyer         City StateProvinceName  \\\n",
       "0       11000             87          1  Rockhampton        Queensland   \n",
       "1       11001            127          1      Seaford          Victoria   \n",
       "2       11002            123          1       Hobart          Tasmania   \n",
       "\n",
       "  CountryRegionName   BirthDate   Education    Occupation Gender  \\\n",
       "0         Australia  1966-04-08  Bachelors   Professional      M   \n",
       "1         Australia  1965-05-14  Bachelors   Professional      M   \n",
       "2         Australia  1965-08-12  Bachelors   Professional      M   \n",
       "\n",
       "  MaritalStatus  HomeOwnerFlag  NumberCarsOwned  NumberChildrenAtHome  \\\n",
       "0             M              1                0                     0   \n",
       "1             S              0                1                     3   \n",
       "2             M              1                1                     3   \n",
       "\n",
       "   TotalChildren  YearlyIncome  \n",
       "0              2        139848  \n",
       "1              3        106696  \n",
       "2              3        101237  "
      ]
     },
     "execution_count": 35,
     "metadata": {},
     "output_type": "execute_result"
    }
   ],
   "source": [
    "merged_df_cleaned.head(3)"
   ]
  },
  {
   "cell_type": "markdown",
   "metadata": {},
   "source": [
    "### Adding Age\n",
    "The study was done in 1998 so age was caclulated as a difference from 1998 to the birth date and added to the dataset.\n"
   ]
  },
  {
   "cell_type": "code",
   "execution_count": 37,
   "metadata": {
    "scrolled": true
   },
   "outputs": [
    {
     "data": {
      "text/html": [
       "<div>\n",
       "<style>\n",
       "    .dataframe thead tr:only-child th {\n",
       "        text-align: right;\n",
       "    }\n",
       "\n",
       "    .dataframe thead th {\n",
       "        text-align: left;\n",
       "    }\n",
       "\n",
       "    .dataframe tbody tr th {\n",
       "        vertical-align: top;\n",
       "    }\n",
       "</style>\n",
       "<table border=\"1\" class=\"dataframe\">\n",
       "  <thead>\n",
       "    <tr style=\"text-align: right;\">\n",
       "      <th></th>\n",
       "      <th>Age</th>\n",
       "      <th>AveMonthSpend</th>\n",
       "      <th>BikeBuyer</th>\n",
       "      <th>CustomerID</th>\n",
       "      <th>Education</th>\n",
       "      <th>Gender</th>\n",
       "      <th>HomeOwnerFlag</th>\n",
       "      <th>MaritalStatus</th>\n",
       "      <th>NumberCarsOwned</th>\n",
       "      <th>NumberChildrenAtHome</th>\n",
       "      <th>Occupation</th>\n",
       "      <th>TotalChildren</th>\n",
       "      <th>YearlyIncome</th>\n",
       "    </tr>\n",
       "  </thead>\n",
       "  <tbody>\n",
       "    <tr>\n",
       "      <th>0</th>\n",
       "      <td>31</td>\n",
       "      <td>87</td>\n",
       "      <td>1</td>\n",
       "      <td>11000</td>\n",
       "      <td>Bachelors</td>\n",
       "      <td>M</td>\n",
       "      <td>1</td>\n",
       "      <td>M</td>\n",
       "      <td>0</td>\n",
       "      <td>0</td>\n",
       "      <td>Professional</td>\n",
       "      <td>2</td>\n",
       "      <td>139848</td>\n",
       "    </tr>\n",
       "    <tr>\n",
       "      <th>1</th>\n",
       "      <td>32</td>\n",
       "      <td>127</td>\n",
       "      <td>1</td>\n",
       "      <td>11001</td>\n",
       "      <td>Bachelors</td>\n",
       "      <td>M</td>\n",
       "      <td>0</td>\n",
       "      <td>S</td>\n",
       "      <td>1</td>\n",
       "      <td>3</td>\n",
       "      <td>Professional</td>\n",
       "      <td>3</td>\n",
       "      <td>106696</td>\n",
       "    </tr>\n",
       "    <tr>\n",
       "      <th>2</th>\n",
       "      <td>32</td>\n",
       "      <td>123</td>\n",
       "      <td>1</td>\n",
       "      <td>11002</td>\n",
       "      <td>Bachelors</td>\n",
       "      <td>M</td>\n",
       "      <td>1</td>\n",
       "      <td>M</td>\n",
       "      <td>1</td>\n",
       "      <td>3</td>\n",
       "      <td>Professional</td>\n",
       "      <td>3</td>\n",
       "      <td>101237</td>\n",
       "    </tr>\n",
       "    <tr>\n",
       "      <th>3</th>\n",
       "      <td>29</td>\n",
       "      <td>50</td>\n",
       "      <td>1</td>\n",
       "      <td>11003</td>\n",
       "      <td>Bachelors</td>\n",
       "      <td>F</td>\n",
       "      <td>0</td>\n",
       "      <td>S</td>\n",
       "      <td>1</td>\n",
       "      <td>0</td>\n",
       "      <td>Professional</td>\n",
       "      <td>0</td>\n",
       "      <td>88848</td>\n",
       "    </tr>\n",
       "    <tr>\n",
       "      <th>4</th>\n",
       "      <td>29</td>\n",
       "      <td>99</td>\n",
       "      <td>1</td>\n",
       "      <td>11004</td>\n",
       "      <td>Bachelors</td>\n",
       "      <td>F</td>\n",
       "      <td>1</td>\n",
       "      <td>S</td>\n",
       "      <td>4</td>\n",
       "      <td>5</td>\n",
       "      <td>Professional</td>\n",
       "      <td>5</td>\n",
       "      <td>122653</td>\n",
       "    </tr>\n",
       "  </tbody>\n",
       "</table>\n",
       "</div>"
      ],
      "text/plain": [
       "   Age  AveMonthSpend  BikeBuyer  CustomerID   Education Gender  \\\n",
       "0   31             87          1       11000  Bachelors       M   \n",
       "1   32            127          1       11001  Bachelors       M   \n",
       "2   32            123          1       11002  Bachelors       M   \n",
       "3   29             50          1       11003  Bachelors       F   \n",
       "4   29             99          1       11004  Bachelors       F   \n",
       "\n",
       "   HomeOwnerFlag MaritalStatus  NumberCarsOwned  NumberChildrenAtHome  \\\n",
       "0              1             M                0                     0   \n",
       "1              0             S                1                     3   \n",
       "2              1             M                1                     3   \n",
       "3              0             S                1                     0   \n",
       "4              1             S                4                     5   \n",
       "\n",
       "     Occupation  TotalChildren  YearlyIncome  \n",
       "0  Professional              2        139848  \n",
       "1  Professional              3        106696  \n",
       "2  Professional              3        101237  \n",
       "3  Professional              0         88848  \n",
       "4  Professional              5        122653  "
      ]
     },
     "execution_count": 37,
     "metadata": {},
     "output_type": "execute_result"
    }
   ],
   "source": [
    "prediction_df = get_prediction_df(merged_df_cleaned)\n",
    "prediction_df.head()"
   ]
  },
  {
   "cell_type": "code",
   "execution_count": 38,
   "metadata": {},
   "outputs": [
    {
     "data": {
      "text/html": [
       "<div>\n",
       "<style>\n",
       "    .dataframe thead tr:only-child th {\n",
       "        text-align: right;\n",
       "    }\n",
       "\n",
       "    .dataframe thead th {\n",
       "        text-align: left;\n",
       "    }\n",
       "\n",
       "    .dataframe tbody tr th {\n",
       "        vertical-align: top;\n",
       "    }\n",
       "</style>\n",
       "<table border=\"1\" class=\"dataframe\">\n",
       "  <thead>\n",
       "    <tr style=\"text-align: right;\">\n",
       "      <th></th>\n",
       "      <th>Age</th>\n",
       "      <th>AveMonthSpend</th>\n",
       "      <th>BikeBuyer</th>\n",
       "      <th>CustomerID</th>\n",
       "      <th>HomeOwnerFlag</th>\n",
       "      <th>NumberCarsOwned</th>\n",
       "      <th>NumberChildrenAtHome</th>\n",
       "      <th>TotalChildren</th>\n",
       "      <th>YearlyIncome</th>\n",
       "    </tr>\n",
       "  </thead>\n",
       "  <tbody>\n",
       "    <tr>\n",
       "      <th>count</th>\n",
       "      <td>18435.000000</td>\n",
       "      <td>18435.000000</td>\n",
       "      <td>18435.000000</td>\n",
       "      <td>18435.000000</td>\n",
       "      <td>18435.000000</td>\n",
       "      <td>18435.000000</td>\n",
       "      <td>18435.000000</td>\n",
       "      <td>18435.000000</td>\n",
       "      <td>18435.000000</td>\n",
       "    </tr>\n",
       "    <tr>\n",
       "      <th>mean</th>\n",
       "      <td>35.418335</td>\n",
       "      <td>72.623162</td>\n",
       "      <td>0.333062</td>\n",
       "      <td>20237.511852</td>\n",
       "      <td>0.676214</td>\n",
       "      <td>1.502794</td>\n",
       "      <td>1.005099</td>\n",
       "      <td>2.009276</td>\n",
       "      <td>78302.643504</td>\n",
       "    </tr>\n",
       "    <tr>\n",
       "      <th>std</th>\n",
       "      <td>11.239258</td>\n",
       "      <td>27.294868</td>\n",
       "      <td>0.471321</td>\n",
       "      <td>5337.091000</td>\n",
       "      <td>0.467932</td>\n",
       "      <td>1.136563</td>\n",
       "      <td>1.522097</td>\n",
       "      <td>1.683827</td>\n",
       "      <td>39710.857374</td>\n",
       "    </tr>\n",
       "    <tr>\n",
       "      <th>min</th>\n",
       "      <td>17.000000</td>\n",
       "      <td>20.000000</td>\n",
       "      <td>0.000000</td>\n",
       "      <td>11000.000000</td>\n",
       "      <td>0.000000</td>\n",
       "      <td>0.000000</td>\n",
       "      <td>0.000000</td>\n",
       "      <td>0.000000</td>\n",
       "      <td>8217.000000</td>\n",
       "    </tr>\n",
       "    <tr>\n",
       "      <th>25%</th>\n",
       "      <td>27.000000</td>\n",
       "      <td>52.000000</td>\n",
       "      <td>0.000000</td>\n",
       "      <td>15607.500000</td>\n",
       "      <td>0.000000</td>\n",
       "      <td>1.000000</td>\n",
       "      <td>0.000000</td>\n",
       "      <td>0.000000</td>\n",
       "      <td>48070.500000</td>\n",
       "    </tr>\n",
       "    <tr>\n",
       "      <th>50%</th>\n",
       "      <td>34.000000</td>\n",
       "      <td>68.000000</td>\n",
       "      <td>0.000000</td>\n",
       "      <td>20231.000000</td>\n",
       "      <td>1.000000</td>\n",
       "      <td>2.000000</td>\n",
       "      <td>0.000000</td>\n",
       "      <td>2.000000</td>\n",
       "      <td>76434.000000</td>\n",
       "    </tr>\n",
       "    <tr>\n",
       "      <th>75%</th>\n",
       "      <td>43.000000</td>\n",
       "      <td>84.000000</td>\n",
       "      <td>1.000000</td>\n",
       "      <td>24869.500000</td>\n",
       "      <td>1.000000</td>\n",
       "      <td>2.000000</td>\n",
       "      <td>2.000000</td>\n",
       "      <td>3.000000</td>\n",
       "      <td>105258.000000</td>\n",
       "    </tr>\n",
       "    <tr>\n",
       "      <th>max</th>\n",
       "      <td>87.000000</td>\n",
       "      <td>174.000000</td>\n",
       "      <td>1.000000</td>\n",
       "      <td>29483.000000</td>\n",
       "      <td>1.000000</td>\n",
       "      <td>4.000000</td>\n",
       "      <td>5.000000</td>\n",
       "      <td>5.000000</td>\n",
       "      <td>201090.000000</td>\n",
       "    </tr>\n",
       "  </tbody>\n",
       "</table>\n",
       "</div>"
      ],
      "text/plain": [
       "                Age  AveMonthSpend     BikeBuyer    CustomerID  HomeOwnerFlag  \\\n",
       "count  18435.000000   18435.000000  18435.000000  18435.000000   18435.000000   \n",
       "mean      35.418335      72.623162      0.333062  20237.511852       0.676214   \n",
       "std       11.239258      27.294868      0.471321   5337.091000       0.467932   \n",
       "min       17.000000      20.000000      0.000000  11000.000000       0.000000   \n",
       "25%       27.000000      52.000000      0.000000  15607.500000       0.000000   \n",
       "50%       34.000000      68.000000      0.000000  20231.000000       1.000000   \n",
       "75%       43.000000      84.000000      1.000000  24869.500000       1.000000   \n",
       "max       87.000000     174.000000      1.000000  29483.000000       1.000000   \n",
       "\n",
       "       NumberCarsOwned  NumberChildrenAtHome  TotalChildren   YearlyIncome  \n",
       "count     18435.000000          18435.000000   18435.000000   18435.000000  \n",
       "mean          1.502794              1.005099       2.009276   78302.643504  \n",
       "std           1.136563              1.522097       1.683827   39710.857374  \n",
       "min           0.000000              0.000000       0.000000    8217.000000  \n",
       "25%           1.000000              0.000000       0.000000   48070.500000  \n",
       "50%           2.000000              0.000000       2.000000   76434.000000  \n",
       "75%           2.000000              2.000000       3.000000  105258.000000  \n",
       "max           4.000000              5.000000       5.000000  201090.000000  "
      ]
     },
     "execution_count": 38,
     "metadata": {},
     "output_type": "execute_result"
    }
   ],
   "source": [
    "prediction_df.describe()"
   ]
  },
  {
   "cell_type": "markdown",
   "metadata": {},
   "source": [
    "## Analyzing the Dataset\n",
    "\n",
    "#### Numerical Data\n",
    "Let us start with some histograms to look at the shape of our numerical data.\n",
    "- The yearly income data is somewaht mulinomial with a slight right skew\n",
    "- Age data is right skewed \n",
    "- Ave monthly spending data is also multinomial with a right skew\n",
    "\n",
    "To get these data in proper shape, some transformation would be required."
   ]
  },
  {
   "cell_type": "code",
   "execution_count": 39,
   "metadata": {},
   "outputs": [
    {
     "data": {
      "image/png": "[encoded data removed]",
      "text/plain": [
       "<matplotlib.figure.Figure at 0x11cb509b0>"
      ]
     },
     "metadata": {},
     "output_type": "display_data"
    }
   ],
   "source": [
    "explore_numerical_data(prediction_df)"
   ]
  },
  {
   "cell_type": "markdown",
   "metadata": {},
   "source": [
    "#### Categorical Data"
   ]
  },
  {
   "cell_type": "code",
   "execution_count": 40,
   "metadata": {},
   "outputs": [
    {
     "data": {
      "image/png": "[encoded data removed]",
      "text/plain": [
       "<matplotlib.figure.Figure at 0x11b86fba8>"
      ]
     },
     "metadata": {},
     "output_type": "display_data"
    }
   ],
   "source": [
    "fig = plt.figure(figsize = (15,5))\n",
    "fig.clf()\n",
    "fig.subplots_adjust(hspace=.3)\n",
    "ax0 = fig.add_subplot(1, 3, 1)\n",
    "ax1 = fig.add_subplot(1, 3, 2) \n",
    "ax2 = fig.add_subplot(1, 3, 3) \n",
    "\n",
    "prediction_df.groupby('Occupation')['YearlyIncome'].apply(np.median).sort_values(ascending = True).plot(kind='bar', ax = ax0)\n",
    "prediction_df.groupby('BikeBuyer').size().plot(kind='bar', ax = ax1)\n",
    "prediction_df.groupby(['Age', 'Gender'])['AveMonthSpend'].max().sort_values(ascending=False).head(15).plot(kind='bar')\n",
    "\n",
    "fig.savefig('plot1.png')"
   ]
  },
  {
   "cell_type": "markdown",
   "metadata": {},
   "source": [
    "#### Relationships\n",
    "We can also look at some different relationships that might come in handy for targeted advertisement: \n",
    "\n",
    "- Male customers are more likely to buy bikes than female customers\n",
    "- Single customers are more likely to buy bikes than married customers\n",
    "\n",
    "Taking it a a little bit further:\n",
    "\n",
    "- Married single customers buy the most and married female customers the least\n",
    "- and of course, more children need more bikes"
   ]
  },
  {
   "cell_type": "code",
   "execution_count": 41,
   "metadata": {},
   "outputs": [
    {
     "data": {
      "image/png": "[encoded data removed]",
      "text/plain": [
       "<matplotlib.figure.Figure at 0x11bcd66d8>"
      ]
     },
     "metadata": {},
     "output_type": "display_data"
    }
   ],
   "source": [
    "explore_categorical_relationships(prediction_df)"
   ]
  },
  {
   "cell_type": "code",
   "execution_count": 42,
   "metadata": {},
   "outputs": [
    {
     "data": {
      "image/png": "[encoded data removed]",
      "text/plain": [
       "<matplotlib.figure.Figure at 0x11d3e7940>"
      ]
     },
     "metadata": {},
     "output_type": "display_data"
    }
   ],
   "source": [
    "explore_more_categorical_relationships(prediction_df)"
   ]
  },
  {
   "cell_type": "code",
   "execution_count": 43,
   "metadata": {},
   "outputs": [
    {
     "data": {
      "image/png": "[encoded data removed]",
      "text/plain": [
       "<matplotlib.figure.Figure at 0x11db95e80>"
      ]
     },
     "metadata": {},
     "output_type": "display_data"
    }
   ],
   "source": [
    "explore_relationships(prediction_df)"
   ]
  },
  {
   "cell_type": "markdown",
   "metadata": {},
   "source": [
    "[Back to TOC](#Table-of-contents)\n",
    "<a id='ml'></a>\n",
    "# Machine Learning (ML)\n",
    "![](let_the_machine_do_it.png)\n",
    "We will now use some machine learning models to:\n",
    "- Build a classification model to predict customer purchasing behavior\n",
    "- Build a regression model to predict customer purchasing behavior\n"
   ]
  },
  {
   "cell_type": "markdown",
   "metadata": {},
   "source": [
    "## Classification\n",
    "We started with some basic default values and ran a number of models to see which one seems to be the best one. We were looking at the simplest model that would give the best results. "
   ]
  },
  {
   "cell_type": "markdown",
   "metadata": {},
   "source": [
    "#### Azure ML Classification Run No. 1 (Initial probe)\n",
    "![](classification_experiment1.png)"
   ]
  },
  {
   "cell_type": "markdown",
   "metadata": {},
   "source": [
    "![](classification_experiment1_res.png)"
   ]
  },
  {
   "cell_type": "markdown",
   "metadata": {},
   "source": [
    "### Interpretation of initial ML run \n",
    "- The results of all the machine learning techniques provide nearly the same accuracy on the first run, around 0.8. \n",
    "- Sole exception is the Neural Network which for provided a lower then expected accuracy. \n",
    "\n",
    "Of all the techniques, logistic regression, which is probably the easiest to understand provides the best result. We will use the logistic regression for further analysis."
   ]
  },
  {
   "cell_type": "markdown",
   "metadata": {},
   "source": [
    "### Optimization\n",
    "\n",
    "- **Transformation:** We further analyzed some of our variables and transformed some of them into more of a normalized distribution. The transformations included squaring, logging and rooting some of the variables.\n",
    "\n",
    "![](classification_optimization_transformations.png)"
   ]
  },
  {
   "cell_type": "markdown",
   "metadata": {},
   "source": [
    "- ** ML Parameters:** Using Azure ML for regularization and feature selection, we changed the params to improve upon the accuracy of our model a bit furhter. \n",
    "\n",
    "![](classification_optimization_params.png)"
   ]
  },
  {
   "cell_type": "markdown",
   "metadata": {},
   "source": [
    "## Regression\n",
    "Using the classification as a baseline and insight, we then moved on to regression. We tried the Boosted Decision Tree Regression on our already cleaned up dataset.\n"
   ]
  },
  {
   "cell_type": "markdown",
   "metadata": {},
   "source": [
    "![](regression_experiment1.png)"
   ]
  },
  {
   "cell_type": "markdown",
   "metadata": {},
   "source": [
    "The results for the first run looked quite promising as evidenced below:\n",
    "\n",
    "![](regression_experiment1_res.png)"
   ]
  },
  {
   "cell_type": "markdown",
   "metadata": {},
   "source": [
    "[Back to TOC](#Table-of-contents)\n",
    "<a id='conclusions'></a>\n",
    "# Conclusions and Recommendations\n",
    "![](conclusions.png)\n",
    "<hr>\n",
    "\n",
    "It is possible to derive strange results from statistical experiments but fortunately in our case, the results are rather straight forward. \n",
    "\n",
    "### Assumptions and analysis\n",
    "tbd\n",
    "\n",
    "\n",
    "### Interpreting the analysis\n",
    "\n",
    "*** Gender based sales: *** \n",
    "There can be two school of thoughts on the results. \n",
    "- The marketing/sales deparment is doing an awesome job selling to the male customers\n",
    "- The marketing/sales department is not doing enough to sell to the female clients\n",
    "\n",
    "*** Selling to Singles: ***\n",
    "Similar to the gender, the analysis shows that by a margin of almost 2 to 1, singles buy more bikes. \n",
    "\n",
    "\n",
    "### Recommendations\n",
    "\n",
    "- Bike riding is a lifestyle choice that can keep people fit and healthy. Married people need to be reminded of the health benefits that a short bike ride can provide. \n",
    "\n"
   ]
  },
  {
   "cell_type": "markdown",
   "metadata": {},
   "source": [
    "<hr>\n",
    "[Back to TOC](#Table-of-contents)\n",
    "<a id='scripts'></a>\n",
    "# Scripts\n",
    "<hr>"
   ]
  },
  {
   "cell_type": "code",
   "execution_count": 1,
   "metadata": {
    "collapsed": true
   },
   "outputs": [],
   "source": [
    "import pandas as pd\n",
    "import numpy as np\n",
    "import matplotlib.pyplot as plt\n",
    "import seaborn as sns\n",
    "%matplotlib inline\n",
    "\n",
    "from datetime import datetime\n",
    "from dateutil.relativedelta import relativedelta"
   ]
  },
  {
   "cell_type": "code",
   "execution_count": 25,
   "metadata": {
    "collapsed": true
   },
   "outputs": [],
   "source": [
    "df_ave = pd.read_csv(\"AW_AveMonthSpend.csv\", sep=\",\", encoding='latin-1')\n",
    "df_buyer = pd.read_csv(\"AW_BikeBuyer.csv\", sep=\",\", encoding='latin-1')\n",
    "df_customer = pd.read_csv(\"AW_Customers.csv\", sep=\",\", encoding='latin-1')\n",
    "\n",
    "df_ave = df_ave.rename(index=str, columns={\"?CustomerID\": \"CustomerID\"})\n",
    "df_buyer = df_buyer.rename(index=str, columns={\"?CustomerID\": \"CustomerID\"})\n",
    "df_customer = df_customer.rename(index=str, columns={\"?CustomerID\": \"CustomerID\"})"
   ]
  },
  {
   "cell_type": "code",
   "execution_count": 3,
   "metadata": {
    "collapsed": true
   },
   "outputs": [],
   "source": [
    "merged_df = df_ave.copy()\n",
    "merged_df = merged_df.merge(df_buyer, left_on = 'CustomerID', right_on='CustomerID')\n",
    "merged_df = merged_df.merge(df_customer, left_on = 'CustomerID', right_on='CustomerID')"
   ]
  },
  {
   "cell_type": "code",
   "execution_count": 4,
   "metadata": {},
   "outputs": [
    {
     "name": "stdout",
     "output_type": "stream",
     "text": [
      "(19203, 16)\n"
     ]
    }
   ],
   "source": [
    "# get rid of FirstName, MiddleName, LastName, Suffix, AddressLine1, AddressLine2, PostalCode, PhoneNumber, NumberChildrenAtHome\n",
    "merged_df_cleaned = merged_df[[\n",
    "    'CustomerID', \n",
    "    'AveMonthSpend', \n",
    "    'BikeBuyer',  \n",
    "    #'FirstName',\n",
    "    #'MiddleName', \n",
    "    #'LastName', \n",
    "    #'Suffix', \n",
    "    #'AddressLine1', \n",
    "    #'AddressLine2',\n",
    "    'City', \n",
    "    'StateProvinceName', \n",
    "    'CountryRegionName', \n",
    "    #'PostalCode',\n",
    "    #'PhoneNumber', \n",
    "    'BirthDate', \n",
    "    'Education', \n",
    "    'Occupation', \n",
    "    'Gender',\n",
    "    'MaritalStatus', \n",
    "    'HomeOwnerFlag', \n",
    "    'NumberCarsOwned',\n",
    "    'NumberChildrenAtHome', \n",
    "    'TotalChildren', \n",
    "    'YearlyIncome']]\n",
    "print (merged_df_cleaned.shape)"
   ]
  },
  {
   "cell_type": "code",
   "execution_count": 5,
   "metadata": {
    "collapsed": true
   },
   "outputs": [],
   "source": [
    "from datetime import datetime\n",
    "from dateutil.relativedelta import relativedelta\n",
    "\n",
    "data_collected = datetime.strptime('1998-01-01', \"%Y-%m-%d\")\n",
    "def get_prediction_df(df):\n",
    "    records = []\n",
    "    for index, row in df.iterrows():\n",
    "        record = {\n",
    "            'CustomerID': row['CustomerID'],\n",
    "            'AveMonthSpend': row['AveMonthSpend'],\n",
    "            'BikeBuyer': row['BikeBuyer'],\n",
    "            #'City': row['City'],\n",
    "            #'StateProvinceName': row['StateProvinceName'],\n",
    "            #'CountryRegionName': row['CountryRegionName'],\n",
    "            #'PostalCode': row['PostalCode'],\n",
    "            #'BirthDate': row['BirthDate'],\n",
    "            'Education': row['Education'],\n",
    "            'Occupation': row['Occupation'],\n",
    "            'Gender': row['Gender'],\n",
    "            'MaritalStatus': row['MaritalStatus'],\n",
    "            'HomeOwnerFlag': row['HomeOwnerFlag'], \n",
    "            'NumberCarsOwned': row['NumberCarsOwned'],\n",
    "            'NumberChildrenAtHome': row['NumberChildrenAtHome'], \n",
    "            'TotalChildren': row['TotalChildren'], \n",
    "            'YearlyIncome': row['YearlyIncome']\n",
    "        }\n",
    "\n",
    "        bday = datetime.strptime(row['BirthDate'], \"%Y-%m-%d\")\n",
    "        record['Age'] = relativedelta(data_collected, bday).years\n",
    "\n",
    "        records.append(record)\n",
    "    return pd.DataFrame(records)\n",
    "\n",
    "\n",
    "\n",
    "def get_prediction_df3():\n",
    "    merged_df_cleaned = get_age_df(merged_df_cleaned)\n",
    "    merged_df_cleaned.to_csv('bike_sales_21.csv')\n",
    "    merged_df_cleaned.head()\n"
   ]
  },
  {
   "cell_type": "code",
   "execution_count": 6,
   "metadata": {
    "collapsed": true
   },
   "outputs": [],
   "source": [
    "def explore_numerical_data(df):\n",
    "    fig = plt.figure(figsize = (15,5))\n",
    "    fig.clf()\n",
    "    fig.subplots_adjust(hspace=.3)\n",
    "    ax0 = fig.add_subplot(1, 3, 1)\n",
    "    ax1 = fig.add_subplot(1, 3, 2) \n",
    "    ax2 = fig.add_subplot(1, 3, 3) \n",
    "\n",
    "    #ns.regplot('salary', 'wins', data=df, ax=axis)\n",
    "    sns.distplot(df['YearlyIncome'], ax=ax0);\n",
    "    sns.distplot(df['Age'], ax=ax1);\n",
    "    sns.distplot(df['AveMonthSpend'], ax=ax2);\n",
    "\n"
   ]
  },
  {
   "cell_type": "code",
   "execution_count": 7,
   "metadata": {
    "collapsed": true
   },
   "outputs": [],
   "source": [
    "def explore_relationships(df):\n",
    "    fig = plt.figure(figsize = (15,5))\n",
    "    fig.clf()\n",
    "    fig.subplots_adjust(hspace=.3)\n",
    "    ax0 = fig.add_subplot(1, 1, 1)\n",
    "    #ax1 = fig.add_subplot(1, 3, 2) \n",
    "    #ax2 = fig.add_subplot(1, 3, 3) \n",
    "    sns.regplot('YearlyIncome','AveMonthSpend', data=df, ax=ax0)\n",
    "    "
   ]
  },
  {
   "cell_type": "code",
   "execution_count": 8,
   "metadata": {
    "collapsed": true
   },
   "outputs": [],
   "source": [
    "def explore_categorical_relationships(df):\n",
    "    fig = plt.figure(figsize = (15,5))\n",
    "    fig.clf()\n",
    "    fig.subplots_adjust(hspace=.3)\n",
    "    ax0 = fig.add_subplot(1, 2, 1)\n",
    "    ax1 = fig.add_subplot(1, 2, 2)\n",
    "    \n",
    "    sns.barplot(x=\"BikeBuyer\", y=\"Gender\", data=df, ax=ax0)  \n",
    "    ax0.set_title(\"Male customers more likely to buy bikes than female customers\")\n",
    "\n",
    "    sns.barplot(x=\"BikeBuyer\", y=\"MaritalStatus\", data=df, ax=ax1) \n",
    "    ax1.set_title(\"Single customers more likely to buy bikes than married customers\")\n",
    "    \n",
    "    \n",
    "def explore_more_categorical_relationships(df):\n",
    "    fig = plt.figure(figsize = (15,5))\n",
    "    fig.clf()\n",
    "    fig.subplots_adjust(hspace=.3)\n",
    "    ax0 = fig.add_subplot(1, 2, 1)\n",
    "    ax1 = fig.add_subplot(1, 2, 2) \n",
    "   \n",
    "    sns.barplot(x=\"BikeBuyer\", y=\"Gender\", hue=\"MaritalStatus\", data=df, ax=ax0)\n",
    "    ax0.set_title(\"Male single customers buy the most - married female the least\")\n",
    "    \n",
    "    sns.barplot(x=\"BikeBuyer\", y=\"Gender\", hue=\"TotalChildren\", data=df, ax=ax1)\n",
    "    ax1.set_title(\"More children = more bikes sold\")\n",
    "\n",
    "\n"
   ]
  },
  {
   "cell_type": "code",
   "execution_count": 19,
   "metadata": {
    "collapsed": true
   },
   "outputs": [],
   "source": [
    "def print_df_before_and_after_removing_duplicates():\n",
    "    print(\"Shape Before duplicatate removing - AveMonthSpend:\", df_ave.shape, \n",
    "          \"\\nshape of Customer:\", df_customer.shape, \n",
    "          \"\\nshape of BikeBuyer:\", df_buyer.shape)\n",
    "    df_ave = df_ave.drop_duplicates(subset = '?CustomerID')\n",
    "    df_buyer = df_buyer.drop_duplicates(subset = '?CustomerID')\n",
    "    df_customer = df_customer.drop_duplicates(subset = '?CustomerID')\n",
    "    print(\"Shape AFTER duplicatate removing - AveMonthSpend: \", df_ave.shape, \n",
    "          \"\\nshape of Customer:\", df_customer.shape, \n",
    "          \"\\nshape of BikeBuyer:\", df_buyer.shape)\n",
    "    "
   ]
  },
  {
   "cell_type": "code",
   "execution_count": 57,
   "metadata": {},
   "outputs": [],
   "source": [
    "def print_df_before_and_after_removing_duplicates(ave, buyer, customer):\n",
    "    print(\"Shape Before duplicatate removing - AveMonthSpend:\", df_ave.shape, \n",
    "          \"\\nshape of Customer:\", df_customer.shape, \n",
    "          \"\\nshape of BikeBuyer:\", df_buyer.shape)\n",
    "    ave = ave.drop_duplicates(subset = 'CustomerID')\n",
    "    buyer = buyer.drop_duplicates(subset = 'CustomerID')\n",
    "    cust = customer.drop_duplicates(subset = 'CustomerID')\n",
    "    print(\"Shape AFTER duplicatate removing - AveMonthSpend: \", df_ave.shape, \n",
    "          \"\\nshape of Customer:\", customer.shape, \n",
    "          \"\\nshape of BikeBuyer:\", buyer.shape)\n",
    "    "
   ]
  },
  {
   "cell_type": "code",
   "execution_count": 27,
   "metadata": {},
   "outputs": [],
   "source": [
    "df_ave = df_ave.drop_duplicates(subset = 'CustomerID')"
   ]
  },
  {
   "cell_type": "code",
   "execution_count": null,
   "metadata": {
    "collapsed": true
   },
   "outputs": [],
   "source": []
  }
 ],
 "metadata": {
  "kernelspec": {
   "display_name": "Python 3",
   "language": "python",
   "name": "python3"
  },
  "language_info": {
   "codemirror_mode": {
    "name": "ipython",
    "version": 3
   },
   "file_extension": ".py",
   "mimetype": "text/x-python",
   "name": "python",
   "nbconvert_exporter": "python",
   "pygments_lexer": "ipython3",
   "version": "3.6.1"
  }
 },
 "nbformat": 4,
 "nbformat_minor": 2
}
